{
  "nbformat": 4,
  "nbformat_minor": 0,
  "metadata": {
    "colab": {
      "provenance": [],
      "authorship_tag": "ABX9TyPRyswTz8QG1dvYZOt8b17/",
      "include_colab_link": true
    },
    "kernelspec": {
      "name": "python3",
      "display_name": "Python 3"
    },
    "language_info": {
      "name": "python"
    }
  },
  "cells": [
    {
      "cell_type": "markdown",
      "metadata": {
        "id": "view-in-github",
        "colab_type": "text"
      },
      "source": [
        "<a href=\"https://colab.research.google.com/github/leeyujinn/BP_10_Ch3/blob/main/%EA%B8%B0%EC%B4%88%ED%8C%8C%EC%9D%B4%EC%8D%AC_3%EC%9E%A5_%EC%97%B0%EC%8A%B5%EB%AC%B8%EC%A0%9C.ipynb\" target=\"_parent\"><img src=\"https://colab.research.google.com/assets/colab-badge.svg\" alt=\"Open In Colab\"/></a>"
      ]
    },
    {
      "cell_type": "markdown",
      "source": [
        "1. 사용자로부터 두 개의 정수를 받아서 정수의 합, 정수의 차, 정수의 곱, 정수의 평균, 큰 수, 작은 수를 계산하여 화면에 출력하는 프로그램을 작성하라. 파이썬이 제공하는 내장 함수 max(x,y),min(x,y)을 사용해보자."
      ],
      "metadata": {
        "id": "5ZiuFlYhmL4P"
      }
    },
    {
      "cell_type": "code",
      "source": [
        "x = int(input(\"x: \")) #변수 x의 값을 사용자로부터 입력받는다.\n",
        "y = int(input(\"y: \")) #변수 y의 값을 사용자로부터 입력받는다.\n",
        "\n",
        "print(\"두수의 합:\",x+y) #x+y를 통해 x와 y의 합을 출력한다.\n",
        "print(\"두수의 차:\",x-y) #x-y를 통해 x와 y의 차를 출력한다.\n",
        "print(\"두수의 곱:\",x*y) #x*y를 통해 x와 y의 곱을 출력한다.\n",
        "print(\"두수의 평균:\",(x+y)/2) #(x+y)/2를 통해 x와 y의 평균을 출력한다.\n",
        "print(\"큰수:\",max(x,y)) #max(x,y)를 통해 x와 y 중 더 큰 수를 출력한다.\n",
        "print(\"작은수:\",min(x,y)) #min(x,y)를 통해 x와 y중 더 작은 수를 출력한다."
      ],
      "metadata": {
        "colab": {
          "base_uri": "https://localhost:8080/"
        },
        "id": "gVfqCLGZmZah",
        "outputId": "aaba273a-5da1-49d8-a370-98e03bc1e3ae"
      },
      "execution_count": 3,
      "outputs": [
        {
          "output_type": "stream",
          "name": "stdout",
          "text": [
            "x: 10\n",
            "y: 20\n",
            "두수의 합: 30\n",
            "두수의 차: -10\n",
            "두수의 곱: 200\n",
            "두수의 평균: 15.0\n",
            "큰수: 20\n",
            "작은수: 10\n"
          ]
        }
      ]
    },
    {
      "cell_type": "markdown",
      "source": [
        "2. 원기둥의 부피를 계산하는 프로그램을 작성해보자. 원기둥의 부피는 다음과 같이 계산한다."
      ],
      "metadata": {
        "id": "M1cIQfugnaxS"
      }
    },
    {
      "cell_type": "code",
      "source": [
        "r = float(input(\"r: \")) #변수 r의 값을 float형으로 사용자로부터 입력받는다.\n",
        "h = float(input(\"h: \")) #변수 h의 값을 float형으로 사용자로부터 입력받는다.\n",
        "vol = 3.141592* r**2 *h #변수 vol로 앞에서 받은 r과 h의 값을 통해 원기둥의 부피를 계산한다.\n",
        "print(\"원기둥의 부피;\",vol) #원기둥 부피의 값 결과를 출력한다."
      ],
      "metadata": {
        "colab": {
          "base_uri": "https://localhost:8080/"
        },
        "id": "kZJ6G8CTngPq",
        "outputId": "4556ccce-fcc5-4d10-8d9f-80627447763d"
      },
      "execution_count": 4,
      "outputs": [
        {
          "output_type": "stream",
          "name": "stdout",
          "text": [
            "r: 10\n",
            "h: 100\n",
            "원기둥의 부피; 31415.92\n"
          ]
        }
      ]
    },
    {
      "cell_type": "markdown",
      "source": [
        "3. 사용자로부터 정수를 받아서 정수의 자리수의 합을 계산하는 프로그램을 작성하여 보자. 예를 들어서 사용자가 1234를 입력하였다면 1+2+3+4를 계산하면 된다. 나머지 연산자와 정수 나눗셈 연산자 //를 적극적으로 사용해보자."
      ],
      "metadata": {
        "id": "FO_eLKOGoBkL"
      }
    },
    {
      "cell_type": "code",
      "source": [
        "number = int(input(\"정수를 입력하시오.:\"))  #변수 number의 값을 사용자로부터 입력받는다.\n",
        "sum = 0 #변수 sum을 0으로 초기화한다.\n",
        "sum = sum + number % 10 # %→ 나머지를 출력함.\n",
        "number = number//10 # //→ 정수만 나오도록 출력함.\n",
        "sum = sum + number % 10 # %→ 나머지를 출력함.\n",
        "number = number//10 # //→ 정수만 나오도록 출력함.\n",
        "sum = sum + number % 10 # %→ 나머지를 출력함.\n",
        "number = number//10 # //→ 정수만 나오도록 출력함.\n",
        "sum = sum + number % 10 # %→ 나머지를 출력함.\n",
        "number = number//10 # //→ 정수만 나오도록 출력함.\n",
        "\n",
        "print(\"자리수의 합:\",str(sum))  # str→ sum의 변수에 저장된 숫자를 문자열로 변환"
      ],
      "metadata": {
        "colab": {
          "base_uri": "https://localhost:8080/"
        },
        "id": "CcGi2CWUoNod",
        "outputId": "f0c95f36-d773-4b71-c2d9-82b5ac79a1c0"
      },
      "execution_count": 6,
      "outputs": [
        {
          "output_type": "stream",
          "name": "stdout",
          "text": [
            "정수를 입력하시오.:1234\n",
            "자리수의 합: 10\n"
          ]
        }
      ]
    },
    {
      "cell_type": "markdown",
      "source": [
        "4. 사용자로부터 두 점의 좌표(x1,y1)과 (x2,y2)를 입력받아서 두 점 사이의 거리를 계산하는 프로그램을 작성해보자. 스크립트 모드로 작성하라. 거리는 다음 식으로 계산한다."
      ],
      "metadata": {
        "id": "e-e2FgvLpZnq"
      }
    },
    {
      "cell_type": "code",
      "source": [
        "x1 = int(input(\"x1: \")) #변수 x1의 값을 사용자로부터 입력받는다.\n",
        "y1 = int(input(\"y1: \")) #변수 y1의 값을 사용자로부터 입력받는다.\n",
        "x2 = int(input(\"x2: \")) #변수 x2의 값을 사용자로부터 입력받는다.\n",
        "y2 = int(input(\"y2: \")) #변수 y2의 값을 사용자로부터 입력받는다.\n",
        "\n",
        "dist = ((x1-x2)**2+(y1-y2)**2)**0.5 #식을 통해 dist 변수의 값을 구한다.\n",
        "print(\"두점 사이의 거리=\",dist) #두점 사이의 거리 값을 출력한다."
      ],
      "metadata": {
        "colab": {
          "base_uri": "https://localhost:8080/"
        },
        "id": "gp1f057Zpocp",
        "outputId": "65344101-3ee3-49e0-ffa4-96acc3bafe50"
      },
      "execution_count": 8,
      "outputs": [
        {
          "output_type": "stream",
          "name": "stdout",
          "text": [
            "x1: 0\n",
            "y1: 0\n",
            "x2: 100\n",
            "y2: 100\n",
            "두점 사이의 거리= 141.4213562373095\n"
          ]
        }
      ]
    },
    {
      "cell_type": "markdown",
      "source": [
        "7. 파이썬에서 time()을 호출하면 1970년 1월 1일 이후 흘러온 전체 초가 반환된다. 이것을 적절하게 나누거나 나머지를 구해서 현재 시간의 시와 분을 계산할 수 있을까?"
      ],
      "metadata": {
        "id": "CxL2BPZYrTN3"
      }
    },
    {
      "cell_type": "code",
      "source": [
        "import time #time 라이브러리 가져오기\n",
        "fsecond=time.time() #fsecond라는 변수에 time.time()를 선언\n",
        "total_sec = int(fsecond) #fsecond 문자열을 정수형으로 전환해 변수 total_sec에 저장\n",
        "total_min = total_sec // 60 #total_sec를 60으로 나눈 후 정수만 변수 total_min에 저장\n",
        "minute = total_min % 60 #total_min을 60으로 나눈 나머지를 변수 minute에 저장\n",
        "total_hour = total_min // 60  #total_min를 60으로 나눈 후 정수만 변수 total_hour에 저장\n",
        "hour = total_hour % 24  #total_hour을 24로 나눈 나머지를 변수 hour에 저장\n",
        "\n",
        "print(\"현재 시간(영국 그리니치 시각):\",str(hour)+\"시\"+str(minute)+\"분\")"
      ],
      "metadata": {
        "colab": {
          "base_uri": "https://localhost:8080/"
        },
        "id": "n54r3ozOrds8",
        "outputId": "df9da6d7-2a68-403f-d1ff-476294a5b861"
      },
      "execution_count": 10,
      "outputs": [
        {
          "output_type": "stream",
          "name": "stdout",
          "text": [
            "현재 시간(영국 그리니치 시각): 12시13분\n"
          ]
        }
      ]
    },
    {
      "cell_type": "markdown",
      "source": [
        "8. 움직이는 물체의 운동에너지를 계산해보자. 물체의 에너지를 계산하는 식은 12 * 무게 * 속도 * 2이다"
      ],
      "metadata": {
        "id": "96_UXpUItpB8"
      }
    },
    {
      "cell_type": "code",
      "source": [
        "weight = int(input(\"물체의 무게을 입력하시오(킬로그램):\")) #변수 weight의 값을 사용자로부터 입력받는다.\n",
        "speed = int(input(\"물체의 속도를 입력하시오(미터/초):\"))  #변수 speed의 값을 사용자로부터 입력받는다.\n",
        "energy = 0.5*weight*speed**2  #계산 식을 통하여 변수 energy의 값을 저장한다.\n",
        "print(\"물체는\",energy,\"(줄)의 에너지를 가지고 있다.\") #물체의 에너지 값을 출력한다."
      ],
      "metadata": {
        "colab": {
          "base_uri": "https://localhost:8080/"
        },
        "id": "dBNib8jQt1fN",
        "outputId": "1076f610-4d82-4bd3-c692-517eb115520f"
      },
      "execution_count": 15,
      "outputs": [
        {
          "output_type": "stream",
          "name": "stdout",
          "text": [
            "물체의 무게을 입력하시오(킬로그램):10\n",
            "물체의 속도를 입력하시오(미터/초):100\n",
            "물체는 50000.0 (줄)의 에너지를 가지고 있다.\n"
          ]
        }
      ]
    }
  ]
}